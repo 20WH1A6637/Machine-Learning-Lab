{
  "nbformat": 4,
  "nbformat_minor": 0,
  "metadata": {
    "colab": {
      "provenance": []
    },
    "kernelspec": {
      "name": "python3",
      "display_name": "Python 3"
    },
    "language_info": {
      "name": "python"
    },
    "accelerator": "GPU",
    "gpuClass": "standard"
  },
  "cells": [
    {
      "cell_type": "code",
      "execution_count": 11,
      "metadata": {
        "id": "kcicwnZhxBM7"
      },
      "outputs": [],
      "source": [
        "import numpy as np, pandas as pd\n",
        "import seaborn as sns\n",
        "import matplotlib.pyplot as plt\n",
        "from sklearn.datasets import fetch_20newsgroups\n",
        "from sklearn.feature_extraction.text import TfidfVectorizer\n",
        "from sklearn.naive_bayes import MultinomialNB\n",
        "from sklearn.pipeline import make_pipeline\n",
        "from sklearn.metrics import confusion_matrix, accuracy_score\n",
        "sns.set()"
      ]
    },
    {
      "cell_type": "code",
      "source": [
        "# Load the dataset\n",
        "data = fetch_20newsgroups()\n",
        "# Get the text categories\n",
        "text_categories = data.target_names\n",
        "# define the training set\n",
        "train_data = fetch_20newsgroups(subset=\"train\", categories=text_categories)\n",
        "# define the test set\n",
        "test_data = fetch_20newsgroups(subset=\"test\", categories=text_categories)"
      ],
      "metadata": {
        "id": "COeuI6-_xGA8"
      },
      "execution_count": 2,
      "outputs": []
    },
    {
      "cell_type": "code",
      "source": [
        "print(\"We have {} unique classes\".format(len(text_categories)))\n",
        "print(\"We have {} training samples\".format(len(train_data.data)))\n",
        "print(\"We have {} test samples\".format(len(test_data.data)))"
      ],
      "metadata": {
        "colab": {
          "base_uri": "https://localhost:8080/"
        },
        "id": "YQkkogELxJi5",
        "outputId": "a36b8e03-f0b4-489f-ac54-1363bd9dd3a5"
      },
      "execution_count": 3,
      "outputs": [
        {
          "output_type": "stream",
          "name": "stdout",
          "text": [
            "We have 20 unique classes\n",
            "We have 11314 training samples\n",
            "We have 7532 test samples\n"
          ]
        }
      ]
    },
    {
      "cell_type": "code",
      "source": [
        "print(test_data.data[5])"
      ],
      "metadata": {
        "colab": {
          "base_uri": "https://localhost:8080/"
        },
        "id": "DLhFrpfmxWZe",
        "outputId": "21e826ca-6f49-4595-d2b6-459ff4d2e729"
      },
      "execution_count": 4,
      "outputs": [
        {
          "output_type": "stream",
          "name": "stdout",
          "text": [
            "From: banschbach@vms.ocom.okstate.edu\n",
            "Subject: Re: Candida(yeast) Bloom, Fact or Fiction\n",
            "Organization: OSU College of Osteopathic Medicine\n",
            "Lines: 91\n",
            "Nntp-Posting-Host: vms.ocom.okstate.edu\n",
            "\n",
            "In article <1rp8p1$2d3@usenet.INS.CWRU.Edu>, esd3@po.CWRU.Edu (Elisabeth S. Davidson) writes:\n",
            "> \n",
            "> In a previous article, banschbach@vms.ocom.okstate.edu () says:\n",
            ">>least a few \"enlightened\" physicians practicing in the U.S.  It's really \n",
            ">>too bad that most U.S. medical schools don't cover nutrition because if \n",
            ">>they did, candida would not be viewed as a non-disease by so many in the \n",
            ">>medical profession.\n",
            "> \n",
            "> Case Western Reserve Med School teaches nutrition in its own section as\n",
            "> well as covering it in other sections as they apply (i.e. B12\n",
            "> deficiency in neuro as a cause of neuropathy, B12 deficiency in\n",
            "> hematology as a cause of megaloblastic anemia), yet I sill\n",
            "> hold the viewpoint of mainstream medicine:  candida can cause\n",
            "> mucocutaneous candidiasis, and, in already very sick patients\n",
            "> with damaged immune systems like AIDS and cancer patients,\n",
            "> systemic candida infection.  I think \"The Yeast Connection\" is\n",
            "> a bunch of hooey.  What does this have to do with how well\n",
            "> nutrition is taught, anyway?\n",
            "\n",
            "Elisabeth, let's set the record straight for the nth time, I have not read \n",
            "\"The Yeast Connection\".  So anything that I say is not due to brainwashing \n",
            "by this \"hated\" book.  It's okay I guess to hate the book, by why hate me?\n",
            "Elisabeth, I'm going to quote from Zinsser's Microbiology, 20th Edition.\n",
            "A book that you should be familiar with and not \"hate\". \"Candida species \n",
            "colonize the mucosal surfaces of all humans during birth or shortly \n",
            "thereafter.  The risk of endogenous infection is clearly ever present.  \n",
            "Indeed, candidiasis occurs worldwide and is the most common systemic \n",
            "mycosis.\"  Neutrophils play the main role in preventing a systemic \n",
            "infection(candidiasis) so you would have to have a low neutrophil count or \n",
            "\"sick\" neutrophils to see a systemic infection.  Poor diet and persistent \n",
            "parasitic infestation set many third world residents up for candidiasis.\n",
            "Your assessment of candidiasis in the U.S. is correct and I do not dispute \n",
            "it.\n",
            "\n",
            "What I posted was a discussion of candida blooms, without systemic \n",
            "infection.  These blooms would be responsible for local sites of irritation\n",
            "(GI tract, mouth, vagina and sinus cavity).  Knocking down the bacterial \n",
            "competition for candida was proposed as a possible trigger for candida \n",
            "blooms.  Let me quote from Zinsser's again: \"However, some factors, such as \n",
            "the use of a broad-spectrum antibacterial antibiotic, may predispose to \n",
            "both mucosal and systemic infections\".  I was addressing mucosal infections\n",
            "(I like the term blooms better).  The nutrition course that I teach covers \n",
            "this effect of antibiotic treatment as well as the \"cure\".  I guess that \n",
            "your nutrition course does not, too bad.  \n",
            "\n",
            "\n",
            ">>Here is a brief primer on yeast.  Yeast infections, as they are commonly \n",
            ">>called, are not truely caused by yeasts.  The most common organism responsible\n",
            ">>for this type of infection is Candida albicans or Monilia which is actually a \n",
            ">>yeast-like fungus.  \n",
            "> \n",
            "> Well, maybe I'm getting picky, but I always thought that a yeast\n",
            "> was one form that a fungus could exist in, the other being the\n",
            "> mold form.  Many fungi can occur as either yeasts or molds, \n",
            "> depending on environment.  Candida exibits what is known as\n",
            "> reverse dimorphism - it exists as a mold in the tissues\n",
            "> but exists as a yeast in the environment.  Should we maybe\n",
            "> call it a mold infection?  a fungus infection?  Maybe we\n",
            "> should say it is caused by a mold-like fungus.\n",
            ">  \n",
            ">> \n",
            ">>Martin Banschbach, Ph.D.\n",
            ">>Professor of Biochemistry and Chairman\n",
            ">>Department of Biochemistry and Microbiology\n",
            ">>OSU College of Osteopathic Medicine\n",
            ">>1111 West 17th St.\n",
            ">>Tulsa, Ok. 74107\n",
            ">>\n",
            "> \n",
            "> You're the chairman of Biochem and Micro and you didn't know \n",
            "> that a yeast is a form of a fungus?  (shudder)\n",
            "> Or maybe you did know, and were oversimplifying?\n",
            "\n",
            "My, my Elisabeth, do I detect a little of Steve Dyer in you?  If you \n",
            "noticed my faculty rank, I'm a biochemist, not a microbiologist.\n",
            "Candida is classifed as a fungus(according to Zinsser's).  But, as you point \n",
            "out, it displays dimorphism.  It is capable of producing yeast cells, \n",
            "pseudohyphae and true hyphae.  Elisabeth, you are probably a microbiologist \n",
            "and that makes a lot of sense to you.  To a biochemist, it's a lot of \n",
            "Greek.  So I called it a yeast-like fungus, go ahead and crucify me.\n",
            "\n",
            "You know Elisabeth, I still haven't been able to figure out why such a small \n",
            "little organism like Candida can bring out so much hostility in people in \n",
            "Sci. Med.  And I must admitt that I got sucked into the mud slinging too.\n",
            "I keep hoping that if people will just take the time to think about what \n",
            "I've said, that it will make sense.  I'm not asking anyone here to buy into \n",
            "\"The Yeast Connection\" book because I don't know what's in that book, plain \n",
            "and simple. And to be honest with you, I'm beginning to wish that it was never \n",
            "written.\n",
            "\n",
            "Marty B.\n",
            "\n"
          ]
        }
      ]
    },
    {
      "cell_type": "code",
      "source": [
        "model = make_pipeline(TfidfVectorizer(), MultinomialNB())"
      ],
      "metadata": {
        "id": "WQkUEpjGxXFV"
      },
      "execution_count": 5,
      "outputs": []
    },
    {
      "cell_type": "code",
      "source": [
        "model.fit(train_data.data, train_data.target)"
      ],
      "metadata": {
        "colab": {
          "base_uri": "https://localhost:8080/"
        },
        "id": "bBV80_6pxbH0",
        "outputId": "a52b8e5c-805c-4303-c3b0-0bcf29afb39f"
      },
      "execution_count": 6,
      "outputs": [
        {
          "output_type": "execute_result",
          "data": {
            "text/plain": [
              "Pipeline(steps=[('tfidfvectorizer', TfidfVectorizer()),\n",
              "                ('multinomialnb', MultinomialNB())])"
            ]
          },
          "metadata": {},
          "execution_count": 6
        }
      ]
    },
    {
      "cell_type": "code",
      "source": [
        "predicted_categories = model.predict(test_data.data)"
      ],
      "metadata": {
        "id": "7_LcbAAFxe8z"
      },
      "execution_count": 7,
      "outputs": []
    },
    {
      "cell_type": "code",
      "source": [
        "print(np.array(test_data.target_names)[predicted_categories])"
      ],
      "metadata": {
        "colab": {
          "base_uri": "https://localhost:8080/"
        },
        "id": "zNgmHUfRx06f",
        "outputId": "7d58c2ec-3d68-4ad7-90c0-89b0d5e984ed"
      },
      "execution_count": 8,
      "outputs": [
        {
          "output_type": "stream",
          "name": "stdout",
          "text": [
            "['rec.autos' 'sci.crypt' 'alt.atheism' ... 'rec.sport.baseball'\n",
            " 'comp.sys.ibm.pc.hardware' 'soc.religion.christian']\n"
          ]
        }
      ]
    },
    {
      "cell_type": "code",
      "source": [
        "'''mat = confusion_matrix(test_data.target, predicted_categories)\n",
        "sns.heatmap(mat.T, square = True, annot=True, fmt = \"d\", xticklabels=train_data.target_names,yticklabels=train_data.target_names)\n",
        "plt.xlabel(\"true labels\")\n",
        "plt.ylabel(\"predicted label\")\n",
        "plt.show() '''"
      ],
      "metadata": {
        "id": "X7HVyx1ix3nv"
      },
      "execution_count": null,
      "outputs": []
    },
    {
      "cell_type": "code",
      "source": [
        "print(\"The accuracy is {}\".format(accuracy_score(test_data.target,\n",
        "predicted_categories)))"
      ],
      "metadata": {
        "colab": {
          "base_uri": "https://localhost:8080/"
        },
        "id": "zQGH3l0ux6re",
        "outputId": "ed5aa677-dd38-4273-d495-447b4ffd9381"
      },
      "execution_count": 9,
      "outputs": [
        {
          "output_type": "stream",
          "name": "stdout",
          "text": [
            "The accuracy is 0.7738980350504514\n"
          ]
        }
      ]
    },
    {
      "cell_type": "code",
      "source": [
        "def my_predictions(my_sentence, model):\n",
        " all_categories_names = np.array(data.target_names)\n",
        " prediction = model.predict([my_sentence])\n",
        " return all_categories_names[prediction]\n",
        "my_sentence=\" I am a professor\"\n",
        "print(my_predictions(my_sentence,model))"
      ],
      "metadata": {
        "colab": {
          "base_uri": "https://localhost:8080/"
        },
        "id": "pXbu8q2dyCJt",
        "outputId": "39133d07-c3c0-4376-9033-4ec5de22b83d"
      },
      "execution_count": 10,
      "outputs": [
        {
          "output_type": "stream",
          "name": "stdout",
          "text": [
            "['talk.politics.mideast']\n"
          ]
        }
      ]
    },
    {
      "cell_type": "code",
      "source": [],
      "metadata": {
        "id": "hKTXn-JMyFCc"
      },
      "execution_count": 10,
      "outputs": []
    }
  ]
}