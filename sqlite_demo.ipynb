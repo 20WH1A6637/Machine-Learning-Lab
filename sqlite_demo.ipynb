{
 "cells": [
  {
   "cell_type": "code",
   "execution_count": 14,
   "metadata": {},
   "outputs": [
    {
     "data": {
      "text/plain": [
       "<sqlite3.Cursor at 0x7f80d845aab0>"
      ]
     },
     "execution_count": 14,
     "metadata": {},
     "output_type": "execute_result"
    }
   ],
   "source": [
    "import sqlite3\n",
    "connector = sqlite3.connect(\"sample.db\")\n",
    "cur = connector.cursor()\n",
    "cur.execute(\"\"\" CREATE TABLE student3(\n",
    "            Email VARCHAR(255) NOT NULL,\n",
    "            First_Name CHAR(25) NOT NULL,\n",
    "            Last_Name CHAR(25),\n",
    "            Score INT\n",
    "        ); \"\"\")\n"
   ]
  },
  {
   "cell_type": "code",
   "execution_count": 15,
   "metadata": {},
   "outputs": [
    {
     "name": "stdout",
     "output_type": "stream",
     "text": [
      "Data Inserted in the table: \n",
      "('thopuriharshith@gmail.com', 'Thopuri', 'Harshitha', 84)\n"
     ]
    }
   ],
   "source": [
    "cur.execute(\"\"\" INSERT INTO STUDENT VALUES(\"thopuriharshith@gmail.com\", \"Thopuri\", \"Harshitha\", 84);\"\"\")\n",
    "print(\"Data Inserted in the table: \")\n",
    "data = cur.execute('''SELECT * FROM STUDENT''')\n",
    "for row in data:\n",
    "    print(row)\n",
    "connector.commit()\n",
    "connector.close()"
   ]
  },
  {
   "cell_type": "code",
   "execution_count": null,
   "metadata": {},
   "outputs": [],
   "source": []
  }
 ],
 "metadata": {
  "kernelspec": {
   "display_name": "Python 3 (ipykernel)",
   "language": "python",
   "name": "python3"
  },
  "language_info": {
   "codemirror_mode": {
    "name": "ipython",
    "version": 3
   },
   "file_extension": ".py",
   "mimetype": "text/x-python",
   "name": "python",
   "nbconvert_exporter": "python",
   "pygments_lexer": "ipython3",
   "version": "3.8.5"
  }
 },
 "nbformat": 4,
 "nbformat_minor": 4
}
